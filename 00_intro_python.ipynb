{
  "nbformat": 4,
  "nbformat_minor": 0,
  "metadata": {
    "colab": {
      "provenance": [],
      "authorship_tag": "ABX9TyNu2AasYIsU7YzNSxZbK2mR",
      "include_colab_link": true
    },
    "kernelspec": {
      "name": "python3",
      "display_name": "Python 3"
    },
    "language_info": {
      "name": "python"
    }
  },
  "cells": [
    {
      "cell_type": "markdown",
      "metadata": {
        "id": "view-in-github",
        "colab_type": "text"
      },
      "source": [
        "<a href=\"https://colab.research.google.com/github/MalaikaSaleem111/Project4_Assignments/blob/main/00_intro_python.ipynb\" target=\"_parent\"><img src=\"https://colab.research.google.com/assets/colab-badge.svg\" alt=\"Open In Colab\"/></a>"
      ]
    },
    {
      "cell_type": "markdown",
      "source": [
        "# ***01_add_two_numbers***\n"
      ],
      "metadata": {
        "id": "IgdrBeOlxRmZ"
      }
    },
    {
      "cell_type": "code",
      "source": [
        "def add():\n",
        "  num1: str = input(\"Enter your first number:\")\n",
        "  num1:int = int(num1)\n",
        "  num2: str = input(\"Enter your second number:\")\n",
        "  num2:int = int(num2)\n",
        "  total:int = num1 + num2\n",
        "  print(f\"The total is {total}.\")\n",
        "\n",
        "if __name__ == '__main__':\n",
        "  add()"
      ],
      "metadata": {
        "colab": {
          "base_uri": "https://localhost:8080/"
        },
        "id": "lxUYy2H4xd0w",
        "outputId": "488498cc-cf97-4df2-f82f-cb446a88cc3a"
      },
      "execution_count": 4,
      "outputs": [
        {
          "output_type": "stream",
          "name": "stdout",
          "text": [
            "Enter your first number:12\n",
            "Enter your second number:12\n",
            "The total is 24.\n"
          ]
        }
      ]
    },
    {
      "cell_type": "markdown",
      "source": [
        "# ***02_agreement_bot***"
      ],
      "metadata": {
        "id": "KrHcka7Ozw-I"
      }
    },
    {
      "cell_type": "code",
      "source": [
        "def main():\n",
        "  fav_animal = input(\"What is your favorite animal? \")\n",
        "  print(f\"My favorite animal is also {fav_animal}\")\n",
        "\n",
        "if __name__ == '__main__':\n",
        "  main()"
      ],
      "metadata": {
        "colab": {
          "base_uri": "https://localhost:8080/"
        },
        "id": "RFnrE-vvz4n-",
        "outputId": "7efc9e19-7d1f-4fdc-8ebd-7f96181ba269"
      },
      "execution_count": 10,
      "outputs": [
        {
          "output_type": "stream",
          "name": "stdout",
          "text": [
            "What is your favorite animal? cat\n",
            "My favorite animal is also cat\n"
          ]
        }
      ]
    },
    {
      "cell_type": "markdown",
      "source": [
        "# ***03_fahrenheit_to_celsius***"
      ],
      "metadata": {
        "id": "8A1nc8oj2Y30"
      }
    },
    {
      "cell_type": "code",
      "source": [
        "def temp():\n",
        "  degrees_fahrenheit = float(input(\"Enter our fahrenheit degree: \"))\n",
        "  degrees_celsius = (degrees_fahrenheit - 32) * 5.0/9.0\n",
        "  print(f\"Temperature {degrees_fahrenheit}F = {degrees_celsius}C\")\n",
        "\n",
        "if __name__ == '__main__':\n",
        "  temp()"
      ],
      "metadata": {
        "colab": {
          "base_uri": "https://localhost:8080/"
        },
        "id": "kS0dpbdz2drT",
        "outputId": "f8ecc469-865f-4127-cd9f-0ecbdfe38af9"
      },
      "execution_count": 13,
      "outputs": [
        {
          "output_type": "stream",
          "name": "stdout",
          "text": [
            "Enter our fahrenheit degree: 100\n",
            "Temperature 100.0F = 37.77777777777778C\n"
          ]
        }
      ]
    },
    {
      "cell_type": "markdown",
      "source": [
        "# ***04_how_old_are_they***"
      ],
      "metadata": {
        "id": "o4IkKwZn353E"
      }
    },
    {
      "cell_type": "code",
      "source": [
        "def age():\n",
        "  Anton_age: int = 21\n",
        "  Beth_age: int= 6 + Anton_age\n",
        "  Chen_age: int= 20 + Beth_age\n",
        "  Drew_age: int= Chen_age + Anton_age\n",
        "  Ethan_age: int= Chen_age\n",
        "\n",
        "  print(f\"Anton is {Anton_age} years old\")\n",
        "  print(f\"Beth is {Beth_age} years old\")\n",
        "  print(f\"Chen is {Chen_age} years old\")\n",
        "  print(f\"Drew is {Drew_age} years old\")\n",
        "  print(f\"Ethan is {Ethan_age} years old\")\n",
        "\n",
        "if __name__ == '__main__':\n",
        "  age()"
      ],
      "metadata": {
        "colab": {
          "base_uri": "https://localhost:8080/"
        },
        "id": "TQLDLvTd37Rr",
        "outputId": "0e547e79-1c54-42a2-f6e3-6cbc68cfc510"
      },
      "execution_count": 14,
      "outputs": [
        {
          "output_type": "stream",
          "name": "stdout",
          "text": [
            "Anton is 21 years old\n",
            "Beth is 27 years old\n",
            "Chen is 47 years old\n",
            "Drew is 68 years old\n",
            "Ethan is 47 years old\n"
          ]
        }
      ]
    },
    {
      "cell_type": "markdown",
      "source": [
        "# ***05_triangle_perimeter***"
      ],
      "metadata": {
        "id": "1VGRgfSD55mV"
      }
    },
    {
      "cell_type": "code",
      "source": [
        "def len():\n",
        "  side1 : float = float(input(\"What is the lenght of side1? \"))\n",
        "  side2 : float = float(input(\"What is the lenght of side2? \"))\n",
        "  side3 : float = float(input(\"What is the lenght of side3? \"))\n",
        "  print(f\"The perimeter of the triangle is {side1 + side2 + side3}\")\n",
        "\n",
        "if __name__ == '__main__':\n",
        "  len()"
      ],
      "metadata": {
        "colab": {
          "base_uri": "https://localhost:8080/"
        },
        "id": "TBYEXUsw6A_z",
        "outputId": "788fd959-02c7-4a72-911c-a786ecbd29b7"
      },
      "execution_count": 15,
      "outputs": [
        {
          "output_type": "stream",
          "name": "stdout",
          "text": [
            "What is the lenght of side1? 3\n",
            "What is the lenght of side2? 4\n",
            "What is the lenght of side3? 5.5\n",
            "The perimeter of the triangle is 12.5\n"
          ]
        }
      ]
    },
    {
      "cell_type": "markdown",
      "source": [
        "# ***06_square_number***"
      ],
      "metadata": {
        "id": "4tsDw9b27Hgv"
      }
    },
    {
      "cell_type": "code",
      "source": [
        "def square():\n",
        "  num1: float = float(input(\"Type a number to see its square: \"))\n",
        "  print(f\"the square of {num1} is {num1 ** 2}\")\n",
        "\n",
        "if __name__ == '__main__':\n",
        "  square()"
      ],
      "metadata": {
        "colab": {
          "base_uri": "https://localhost:8080/"
        },
        "id": "zasMa6jy7Jdo",
        "outputId": "e3d247a0-f6b1-4608-da86-301265c34b1f"
      },
      "execution_count": 16,
      "outputs": [
        {
          "output_type": "stream",
          "name": "stdout",
          "text": [
            "Type a number to see its square: 5\n",
            "the square of 5.0 is 25.0\n"
          ]
        }
      ]
    }
  ]
}