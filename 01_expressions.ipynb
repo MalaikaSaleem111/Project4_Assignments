{
  "nbformat": 4,
  "nbformat_minor": 0,
  "metadata": {
    "colab": {
      "provenance": [],
      "authorship_tag": "ABX9TyO67SBZYWgmznhMKZhcWghM",
      "include_colab_link": true
    },
    "kernelspec": {
      "name": "python3",
      "display_name": "Python 3"
    },
    "language_info": {
      "name": "python"
    }
  },
  "cells": [
    {
      "cell_type": "markdown",
      "metadata": {
        "id": "view-in-github",
        "colab_type": "text"
      },
      "source": [
        "<a href=\"https://colab.research.google.com/github/MalaikaSaleem111/Project4_Assignments/blob/main/01_expressions.ipynb\" target=\"_parent\"><img src=\"https://colab.research.google.com/assets/colab-badge.svg\" alt=\"Open In Colab\"/></a>"
      ]
    },
    {
      "cell_type": "markdown",
      "source": [
        "# ***01_dicesimulator***"
      ],
      "metadata": {
        "id": "6_nPjdnS-Z_0"
      }
    },
    {
      "cell_type": "code",
      "source": [
        "import random\n",
        "\n",
        "def roll_dice():\n",
        "    die1: int = random.randint(1, 6)\n",
        "    die2: int = random.randint(1, 6)\n",
        "    total: int = die1 + die2\n",
        "    print(f\"Total of two dice: {total}\")\n",
        "\n",
        "def main():\n",
        "    die1: int = 10\n",
        "    print(f\"die1 in main() starts as: {die1}\")\n",
        "\n",
        "    roll_dice()\n",
        "    roll_dice()\n",
        "    roll_dice()\n",
        "\n",
        "    print(f\"die1 in main() ends as: {die1}\")\n",
        "\n",
        "if __name__ == '__main__':\n",
        "    main()\n",
        "\n"
      ],
      "metadata": {
        "colab": {
          "base_uri": "https://localhost:8080/"
        },
        "id": "2IypM1fw-d58",
        "outputId": "6a2e1faf-dbcb-48e7-a01e-67f74047da9c"
      },
      "execution_count": 2,
      "outputs": [
        {
          "output_type": "stream",
          "name": "stdout",
          "text": [
            "die1 in main() starts as: 10\n",
            "Total of two dice: 12\n",
            "Total of two dice: 11\n",
            "Total of two dice: 11\n",
            "die1 in main() ends as: 10\n"
          ]
        }
      ]
    },
    {
      "cell_type": "markdown",
      "source": [
        "# ***02_e=mc2***"
      ],
      "metadata": {
        "id": "q7LyPtZXAn3E"
      }
    },
    {
      "cell_type": "code",
      "source": [
        "C: int = 299792458  # The speed of light in m/s\n",
        "\n",
        "def main():\n",
        "    mass_in_kg: float = float(input(\"Enter kilos of mass: \"))\n",
        "    energy_in_joules: float = mass_in_kg * (C ** 2)\n",
        "\n",
        "\n",
        "    print(\"e = m * C^2...\")\n",
        "    print(f\"m = {mass_in_kg} kg\")\n",
        "    print(f\"C = {C}m/s\")\n",
        "\n",
        "    print(str(energy_in_joules) + \" joules of energy!\")\n",
        "\n",
        "\n",
        "if __name__ == '__main__':\n",
        "    main()"
      ],
      "metadata": {
        "id": "gBji1CK3AGAf",
        "colab": {
          "base_uri": "https://localhost:8080/"
        },
        "outputId": "8a8c6907-6cef-4213-f5d6-7274cb72fad3"
      },
      "execution_count": null,
      "outputs": [
        {
          "output_type": "stream",
          "name": "stdout",
          "text": [
            "Enter kilos of mass: 100\n",
            "e = m * C^2...\n",
            "m = 100.0 kg\n",
            "C = 299792458m/s\n",
            "8.987551787368176e+18 joules of energy!\n"
          ]
        }
      ]
    },
    {
      "cell_type": "markdown",
      "source": [
        "# ***03_feet_to_inches***"
      ],
      "metadata": {
        "id": "126gSmkN1RjD"
      }
    },
    {
      "cell_type": "code",
      "source": [
        "inch: int = 12\n",
        "def main():\n",
        "  feet:float=float(input(\"Enter number of feet: \"))\n",
        "  inches:float = feet * inch\n",
        "  print(f\"That is {inches} inches!\")\n",
        "if __name__ == '__main__':\n",
        "    main()"
      ],
      "metadata": {
        "id": "kBhjN_lrDNsL",
        "colab": {
          "base_uri": "https://localhost:8080/"
        },
        "outputId": "272d24ab-ab2f-4515-a055-20981e2343fb"
      },
      "execution_count": 3,
      "outputs": [
        {
          "output_type": "stream",
          "name": "stdout",
          "text": [
            "Enter number of feet: 5.5\n",
            "That is 66.0 inches!\n"
          ]
        }
      ]
    },
    {
      "cell_type": "markdown",
      "source": [
        "# ***04_pythagorean_theorem***"
      ],
      "metadata": {
        "id": "HemQHZJKEeQ1"
      }
    },
    {
      "cell_type": "code",
      "source": [
        "import math\n",
        "def main():\n",
        "  ab:float = float(input(\"Enter the length of AB: \"))\n",
        "  ac:float = float(input(\"Enter the length of AC: \"))\n",
        "\n",
        "  bc:float = math.sqrt(ab**2 + ac**2)\n",
        "  print(f\"The length of BC is {bc}\")\n",
        "\n",
        "if __name__ == '__main__':\n",
        "    main()"
      ],
      "metadata": {
        "colab": {
          "base_uri": "https://localhost:8080/"
        },
        "id": "sDcxUzisEfn_",
        "outputId": "a7ed1d9a-8eb9-4488-f671-41599eab94ae"
      },
      "execution_count": null,
      "outputs": [
        {
          "output_type": "stream",
          "name": "stdout",
          "text": [
            "Enter the length of AB: 3\n",
            "Enter the length of AC: 4\n",
            "The length of BC is 5.0\n"
          ]
        }
      ]
    },
    {
      "cell_type": "markdown",
      "source": [
        "# ***05_remainder_division***"
      ],
      "metadata": {
        "id": "m9OstTRkF-Ut"
      }
    },
    {
      "cell_type": "code",
      "source": [
        "def main():\n",
        "  num1:int = int(input(\" Enter an integer to be divided: \"))\n",
        "  num2:int = int(input(\" Enter an integer to divide by: \"))\n",
        "  quotient:int= num1 // num2\n",
        "  reminder:int= num1 % num2\n",
        "  print(f\"The result of this division is {quotient} with a remainder of {reminder}.\")\n",
        "\n",
        "if __name__ == '__main__':\n",
        "  main()"
      ],
      "metadata": {
        "colab": {
          "base_uri": "https://localhost:8080/"
        },
        "id": "8AH3AU9RF_sF",
        "outputId": "e48214ec-fe24-46b3-fd3f-af82e5438f6c"
      },
      "execution_count": null,
      "outputs": [
        {
          "output_type": "stream",
          "name": "stdout",
          "text": [
            " Enter an integer to be divided: 5\n",
            " Enter an integer to divide by: 3\n",
            "The result of this division is 1 with a remainder of 2.\n"
          ]
        }
      ]
    },
    {
      "cell_type": "markdown",
      "source": [
        "# ***06_rolldice***"
      ],
      "metadata": {
        "id": "QtLMDQSbHQjZ"
      }
    },
    {
      "cell_type": "code",
      "source": [
        "import random\n",
        "\n",
        "def roll_dice():\n",
        "  die1:int=random.randint(1,6)\n",
        "  die2:int=random.randint(1,6)\n",
        "  total:int= die1 + die2\n",
        "  print(f\"First die: {die1}\")\n",
        "  print(f\"Second die: {die2}\")\n",
        "  print(f\"Total of two dice: {total}\")\n",
        "\n",
        "if __name__ == '__main__':\n",
        "  roll_dice()"
      ],
      "metadata": {
        "colab": {
          "base_uri": "https://localhost:8080/"
        },
        "id": "RWZBHKo9HSLJ",
        "outputId": "5a9c243a-6186-45d5-9a77-629438a94cd7"
      },
      "execution_count": null,
      "outputs": [
        {
          "output_type": "stream",
          "name": "stdout",
          "text": [
            "First die: 5\n",
            "Second die: 3\n",
            "Total of two dice: 8\n"
          ]
        }
      ]
    },
    {
      "cell_type": "markdown",
      "source": [
        "# **06_seconds_in_year**"
      ],
      "metadata": {
        "id": "FJ1cwYIjIn0Y"
      }
    },
    {
      "cell_type": "code",
      "source": [
        "days_per_year:int =365\n",
        "hours_per_day:int=24\n",
        "min_per_hours:int=60\n",
        "sec_per_min:int=60\n",
        "\n",
        "def main():\n",
        "\n",
        "  Sec_in_year:int= days_per_year * hours_per_day * min_per_hours * sec_per_min\n",
        "  print(f\"There are {Sec_in_year} seconds in a year!\")\n",
        "\n",
        "if __name__ == '__main__':\n",
        "  main()"
      ],
      "metadata": {
        "colab": {
          "base_uri": "https://localhost:8080/"
        },
        "id": "Ho1rJ1dsIu1M",
        "outputId": "d9781608-6b63-48f7-9e5b-3afb6249c547"
      },
      "execution_count": null,
      "outputs": [
        {
          "output_type": "stream",
          "name": "stdout",
          "text": [
            "There are 31536000 seconds in a year!\n"
          ]
        }
      ]
    },
    {
      "cell_type": "markdown",
      "source": [
        "# ***07_tiny_mad_lib***"
      ],
      "metadata": {
        "id": "gvRZTPJNKnBZ"
      }
    },
    {
      "cell_type": "code",
      "source": [
        "sentence:str=\"I learned to program and used Python to make my\"\n",
        "def mad_lib():\n",
        "  adjective:str=input(\"Please type an adjective and press enter. \")\n",
        "  noun:str=input(\"Please type a noun and press enter. \")\n",
        "  verb:str=input(\"Please type a verb and press enter. \")\n",
        "  print(f\"{sentence} {adjective} {noun} {verb}  \")\n",
        "\n",
        "if __name__ == '__main__':\n",
        "  mad_lib()"
      ],
      "metadata": {
        "id": "mvvMeePgKoUq"
      },
      "execution_count": null,
      "outputs": []
    },
    {
      "cell_type": "code",
      "source": [],
      "metadata": {
        "id": "RmxMzHPtNu-z"
      },
      "execution_count": null,
      "outputs": []
    }
  ]
}