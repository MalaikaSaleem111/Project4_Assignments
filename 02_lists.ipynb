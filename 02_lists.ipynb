{
  "cells": [
    {
      "cell_type": "markdown",
      "metadata": {
        "id": "view-in-github",
        "colab_type": "text"
      },
      "source": [
        "<a href=\"https://colab.research.google.com/github/MalaikaSaleem111/Project4_Assignments/blob/main/02_lists.ipynb\" target=\"_parent\"><img src=\"https://colab.research.google.com/assets/colab-badge.svg\" alt=\"Open In Colab\"/></a>"
      ]
    },
    {
      "cell_type": "markdown",
      "metadata": {
        "id": "ZaJLW_HZrRPq"
      },
      "source": [
        "# ***01_add_many_number***"
      ]
    },
    {
      "cell_type": "code",
      "execution_count": null,
      "metadata": {
        "colab": {
          "base_uri": "https://localhost:8080/"
        },
        "id": "68S-CQdxrSvd",
        "outputId": "6e9bd21c-39a9-4fec-a9a4-db6df53e46c0"
      },
      "outputs": [
        {
          "name": "stdout",
          "output_type": "stream",
          "text": [
            "168\n"
          ]
        }
      ],
      "source": [
        "def add_numbers(numbers) -> int:\n",
        "  total: int = 0\n",
        "  for num in numbers:\n",
        "    total += num\n",
        "  return total\n",
        "\n",
        "def main():\n",
        "  num_lst: list[int]= [12,42,35,44,35]\n",
        "  sum_of_numbers:int = add_numbers(num_lst)\n",
        "  print(sum_of_numbers)\n",
        "\n",
        "if __name__ == '__main__':\n",
        "  main()"
      ]
    },
    {
      "cell_type": "markdown",
      "metadata": {
        "id": "OoSjDxsWvH9o"
      },
      "source": [
        "# ***02_double_list***"
      ]
    },
    {
      "cell_type": "code",
      "execution_count": null,
      "metadata": {
        "colab": {
          "base_uri": "https://localhost:8080/"
        },
        "id": "dS0pz3W7tSHZ",
        "outputId": "5d6c97a8-4c30-42af-f086-7868854792b6"
      },
      "outputs": [
        {
          "name": "stdout",
          "output_type": "stream",
          "text": [
            "[2, 4, 6, 8]\n"
          ]
        }
      ],
      "source": [
        "def main():\n",
        "  numbers:list[int]= [1,2,3,4]\n",
        "  for i in range(len(numbers)):\n",
        "    index = numbers[i]\n",
        "    numbers[i]= index * 2\n",
        "  print(numbers)\n",
        "\n",
        "if __name__ == '__main__':\n",
        "  main()"
      ]
    },
    {
      "cell_type": "markdown",
      "metadata": {
        "id": "ROUpZaNwyVUe"
      },
      "source": [
        "# ***04_flowing_with_data_structures***"
      ]
    },
    {
      "cell_type": "code",
      "execution_count": null,
      "metadata": {
        "colab": {
          "base_uri": "https://localhost:8080/"
        },
        "id": "t0Nn8R1WybVv",
        "outputId": "9d056739-6a62-4d90-e97d-3c80461da6e9"
      },
      "outputs": [
        {
          "name": "stdout",
          "output_type": "stream",
          "text": [
            "Enter a message to copy: hello world\n",
            "List before: []\n",
            "List after: ['hello world', 'hello world', 'hello world']\n"
          ]
        }
      ],
      "source": [
        "def add_copies(my_list, data):\n",
        "  for i in range(3):\n",
        "    my_list.append(data)\n",
        "\n",
        "def main():\n",
        "  message:str=input(\"Enter a message to copy: \")\n",
        "  my_list= []\n",
        "  print(f\"List before: {my_list}\")\n",
        "  add_copies(my_list, message)\n",
        "  print(f\"List after: {my_list}\")\n",
        "\n",
        "if __name__ == '__main__':\n",
        "  main()\n"
      ]
    },
    {
      "cell_type": "code",
      "execution_count": null,
      "metadata": {
        "id": "_uUUOoGH9iIU"
      },
      "outputs": [],
      "source": []
    },
    {
      "cell_type": "markdown",
      "metadata": {
        "id": "b-t4BXvi92XE"
      },
      "source": [
        "# ***05_get_first_element***"
      ]
    },
    {
      "cell_type": "code",
      "execution_count": null,
      "metadata": {
        "colab": {
          "base_uri": "https://localhost:8080/"
        },
        "id": "aCrorD3L-Ar4",
        "outputId": "9e442d5e-df6a-4927-cab5-cf8cf0b279c2"
      },
      "outputs": [
        {
          "output_type": "stream",
          "name": "stdout",
          "text": [
            "Please enter an element of the list or press enter: apple\n",
            "Please enter an element of the list or press enter: banana\n",
            "Please enter an element of the list or press enter: mango\n",
            "Please enter an element of the list or press enter: \n",
            "apple\n"
          ]
        }
      ],
      "source": [
        "def get_first_element(lst):\n",
        "  print(lst[0])\n",
        "\n",
        "def get_lst():\n",
        "  lst = []\n",
        "  elem: str = input(\"Please enter an element of the list or press enter: \")\n",
        "  while elem != \"\":\n",
        "    lst.append(elem)\n",
        "    elem = input(\"Please enter an element of the list or press enter: \")\n",
        "  return lst\n",
        "\n",
        "def main():\n",
        "  lst = get_lst()\n",
        "  get_first_element(lst)\n",
        "\n",
        "if __name__ == '__main__':\n",
        "    main()\n"
      ]
    },
    {
      "cell_type": "code",
      "execution_count": null,
      "metadata": {
        "id": "nmTK1gYZ-Ug8"
      },
      "outputs": [],
      "source": []
    },
    {
      "cell_type": "markdown",
      "metadata": {
        "id": "PFXt-RME_xFT"
      },
      "source": [
        "# ***06_get_last_element***"
      ]
    },
    {
      "cell_type": "code",
      "execution_count": null,
      "metadata": {
        "colab": {
          "base_uri": "https://localhost:8080/"
        },
        "id": "rNZ7-m5y_zkq",
        "outputId": "167ab02a-a83b-4fa9-8e2b-b348ed7b914b"
      },
      "outputs": [
        {
          "output_type": "stream",
          "name": "stdout",
          "text": [
            "Please enter an element of the list or press enter to stop. apple\n",
            "Please enter an element of the list or press enter to stop. banana\n",
            "Please enter an element of the list or press enter to stop. mango\n",
            "Please enter an element of the list or press enter to stop. \n",
            "mango\n"
          ]
        }
      ],
      "source": [
        "def get_last_element(lst):\n",
        "  print(lst[len(lst) - 1])\n",
        "\n",
        "def get_lst():\n",
        "   lst = []\n",
        "   elem = input(\"Please enter an element of the list or press enter to stop. \")\n",
        "   while elem != \"\":\n",
        "     lst.append(elem)\n",
        "     elem = input(\"Please enter an element of the list or press enter to stop. \")\n",
        "   return lst\n",
        "\n",
        "def main():\n",
        "   lst = get_lst()\n",
        "   get_last_element(lst)\n",
        "\n",
        "if __name__ == '__main__':\n",
        "  main()"
      ]
    },
    {
      "cell_type": "code",
      "execution_count": null,
      "metadata": {
        "id": "0yVGkSWrAsQH"
      },
      "outputs": [],
      "source": []
    },
    {
      "cell_type": "markdown",
      "metadata": {
        "id": "0y9qxzd3BPd4"
      },
      "source": [
        "# ***07_get_list***"
      ]
    },
    {
      "cell_type": "code",
      "execution_count": null,
      "metadata": {
        "colab": {
          "base_uri": "https://localhost:8080/"
        },
        "id": "BKLjC4nJBR2n",
        "outputId": "34a9a47b-a23d-4f71-fc67-9d4362cf520e"
      },
      "outputs": [
        {
          "output_type": "stream",
          "name": "stdout",
          "text": [
            "Enter a value: 1\n",
            "Enter a value: 2\n",
            "Enter a value: 3\n",
            "Enter a value: 4\n",
            "Enter a value: \n",
            "Here is the ['1', '2', '3', '4']\n"
          ]
        }
      ],
      "source": [
        "def main():\n",
        "  list = []\n",
        "  value = input(\"Enter a value: \")\n",
        "\n",
        "  while value:\n",
        "    list.append(value)\n",
        "    value = input(\"Enter a value: \")\n",
        "\n",
        "  print(f\"Here is the {list}\")\n",
        "if __name__ == '__main__':\n",
        "  main()"
      ]
    },
    {
      "cell_type": "code",
      "execution_count": null,
      "metadata": {
        "id": "ynBeFE_CB7zb"
      },
      "outputs": [],
      "source": []
    },
    {
      "cell_type": "markdown",
      "metadata": {
        "id": "Qaevgm1qCUto"
      },
      "source": [
        "# ***08_shorten***"
      ]
    },
    {
      "cell_type": "code",
      "source": [
        "max_lenght: int = 4\n",
        "\n",
        "def shorten(lst):\n",
        "  while len(lst) > max_lenght:\n",
        "    last_elem = lst.pop()\n",
        "    print(last_elem)\n",
        "\n",
        "def get_lst():\n",
        "  lst = []\n",
        "  elem = input(\"Please enter an element of the list or press enter to stop. \")\n",
        "  while elem != \"\":\n",
        "        lst.append(elem)\n",
        "        elem = input(\"Please enter an element of the list or press enter to stop. \")\n",
        "  return lst\n",
        "\n",
        "def main():\n",
        "    lst = get_lst()\n",
        "    shorten(lst)\n",
        "\n",
        "\n",
        "if __name__ == '__main__':\n",
        "    main()"
      ],
      "metadata": {
        "id": "xntn2k5S22xo",
        "colab": {
          "base_uri": "https://localhost:8080/"
        },
        "outputId": "86094750-51de-400d-f4d3-b8966414763e"
      },
      "execution_count": 1,
      "outputs": [
        {
          "output_type": "stream",
          "name": "stdout",
          "text": [
            "Please enter an element of the list or press enter to stop. 1\n",
            "Please enter an element of the list or press enter to stop. 2\n",
            "Please enter an element of the list or press enter to stop. 3\n",
            "Please enter an element of the list or press enter to stop. 4\n",
            "Please enter an element of the list or press enter to stop. 5\n",
            "Please enter an element of the list or press enter to stop. 6\n",
            "Please enter an element of the list or press enter to stop. \n",
            "6\n",
            "5\n"
          ]
        }
      ]
    },
    {
      "cell_type": "code",
      "source": [],
      "metadata": {
        "id": "ekwIglfq23in"
      },
      "execution_count": null,
      "outputs": []
    }
  ],
  "metadata": {
    "colab": {
      "provenance": [],
      "authorship_tag": "ABX9TyNddPyuxkhQl3Z522ygpoUa",
      "include_colab_link": true
    },
    "kernelspec": {
      "display_name": "Python 3",
      "name": "python3"
    },
    "language_info": {
      "name": "python"
    }
  },
  "nbformat": 4,
  "nbformat_minor": 0
}