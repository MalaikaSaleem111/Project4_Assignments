{
  "nbformat": 4,
  "nbformat_minor": 0,
  "metadata": {
    "colab": {
      "provenance": [],
      "authorship_tag": "ABX9TyMLvCvLMFozDn3cvL0RtdvD",
      "include_colab_link": true
    },
    "kernelspec": {
      "name": "python3",
      "display_name": "Python 3"
    },
    "language_info": {
      "name": "python"
    }
  },
  "cells": [
    {
      "cell_type": "markdown",
      "metadata": {
        "id": "view-in-github",
        "colab_type": "text"
      },
      "source": [
        "<a href=\"https://colab.research.google.com/github/MalaikaSaleem111/Project4_Assignments/blob/main/03_if_statements.ipynb\" target=\"_parent\"><img src=\"https://colab.research.google.com/assets/colab-badge.svg\" alt=\"Open In Colab\"/></a>"
      ]
    },
    {
      "cell_type": "code",
      "execution_count": null,
      "metadata": {
        "id": "1PNV-NImD1XN"
      },
      "outputs": [],
      "source": []
    },
    {
      "cell_type": "markdown",
      "source": [
        "# ***01_print_events***"
      ],
      "metadata": {
        "id": "Kqu4bdVkES7Q"
      }
    },
    {
      "cell_type": "code",
      "source": [
        "def main():\n",
        "  for i in range(20):\n",
        "    print(i * 2, end=\" \")\n",
        "\n",
        "if __name__ == \"__main__\":\n",
        "    main()"
      ],
      "metadata": {
        "colab": {
          "base_uri": "https://localhost:8080/"
        },
        "id": "uVCnhfytEaQ0",
        "outputId": "fc660325-3b59-44fe-8855-414ff7dd7131"
      },
      "execution_count": 1,
      "outputs": [
        {
          "output_type": "stream",
          "name": "stdout",
          "text": [
            "0 2 4 6 8 10 12 14 16 18 20 22 24 26 28 30 32 34 36 38 "
          ]
        }
      ]
    },
    {
      "cell_type": "markdown",
      "source": [
        "# ***02_international_voting_age***"
      ],
      "metadata": {
        "id": "jv9VbM0yFeX_"
      }
    },
    {
      "cell_type": "code",
      "source": [
        "def voting_age():\n",
        "  age:int= int(input(\"how old are you: \"))\n",
        "  if age >= 16:\n",
        "    print(\"You can vote in Peturksbouipo where the voting age is 16\")\n",
        "  else:\n",
        "    print(\"You cannot vote in Peturksbouipo where the voting age is 16.\")\n",
        "\n",
        "  if age >= 25:\n",
        "    print(\"You can vote in Stanlau where the voting age is 25\")\n",
        "  else:\n",
        "    print(\"You cannot vote in Stanlau where the voting age is 25.\")\n",
        "\n",
        "  if age >= 48:\n",
        "    print(\"You can vote in Mayengua where the voting age is 48\")\n",
        "  else:\n",
        "    print(\"You cannot vote in Mayengua where the voting age is 48.\")\n",
        "\n",
        "if __name__ == '__main__':\n",
        "  voting_age()\n",
        "\n"
      ],
      "metadata": {
        "colab": {
          "base_uri": "https://localhost:8080/"
        },
        "id": "8ELon5lgFph7",
        "outputId": "5ac4a3ea-f7a5-4899-c6c3-6d5be2ef264e"
      },
      "execution_count": null,
      "outputs": [
        {
          "output_type": "stream",
          "name": "stdout",
          "text": [
            "how old are you: 20\n",
            "You can vote in Peturksbouipo where the voting age is 16\n",
            "You cannot vote in Stanlau where the voting age is 25.\n",
            "You cannot vote in Mayengua where the voting age is 48.\n"
          ]
        }
      ]
    },
    {
      "cell_type": "code",
      "source": [],
      "metadata": {
        "id": "PXUU3geCIY7i"
      },
      "execution_count": null,
      "outputs": []
    },
    {
      "cell_type": "markdown",
      "source": [
        "# ***03_leap_year***"
      ],
      "metadata": {
        "id": "QYu3C_OvJCpV"
      }
    },
    {
      "cell_type": "code",
      "source": [
        "def leap_year():\n",
        "  year = int(input(\"Please input a year:\"))\n",
        "\n",
        "  if year % 4 == 0:\n",
        "        if year % 100 == 0:\n",
        "            if year % 400 == 0:\n",
        "                print(\"That's a leap year!\")\n",
        "            else:\n",
        "                print(\"That's not a leap year.\")\n",
        "        else:\n",
        "            print(\"That's a leap year!\")\n",
        "  else:\n",
        "        print(\"That's not a leap year.\")\n",
        "\n",
        "\n",
        "\n",
        "if __name__ == '__main__':\n",
        "  leap_year()"
      ],
      "metadata": {
        "colab": {
          "base_uri": "https://localhost:8080/"
        },
        "id": "H5Br_VGxJFwf",
        "outputId": "81e10439-b3fd-4431-fa84-31593f7a0b2f"
      },
      "execution_count": null,
      "outputs": [
        {
          "output_type": "stream",
          "name": "stdout",
          "text": [
            "Please input a year:2025\n",
            "That's not a leap year.\n"
          ]
        }
      ]
    },
    {
      "cell_type": "markdown",
      "source": [
        "# ***04_tall_enough_to_ride***"
      ],
      "metadata": {
        "id": "mqz3JDcPNBfc"
      }
    },
    {
      "cell_type": "code",
      "source": [
        "minimum_height: int = 50\n",
        "def tall_enough():\n",
        "  while True:\n",
        "    height_input =(input(\"How tall are you? \"))\n",
        "    if height_input == \"\":\n",
        "      break\n",
        "\n",
        "    height = int(height_input)\n",
        "    if height >= minimum_height:\n",
        "      print(\"You're tall enough to ride!\")\n",
        "    else:\n",
        "     print(\"You're not tall enough to ride, but maybe next year!\")\n",
        "if __name__ == '__main__':\n",
        "  tall_enough()"
      ],
      "metadata": {
        "id": "RMFhsMv5Kdu0",
        "colab": {
          "base_uri": "https://localhost:8080/"
        },
        "outputId": "f02f09d3-78cd-448e-c276-04a8ac3127c7"
      },
      "execution_count": null,
      "outputs": [
        {
          "name": "stdout",
          "output_type": "stream",
          "text": [
            "How tall are you? \n"
          ]
        }
      ]
    },
    {
      "cell_type": "markdown",
      "source": [
        "# ***05_random_numbers***"
      ],
      "metadata": {
        "id": "XDWDNCNsSQCP"
      }
    },
    {
      "cell_type": "code",
      "source": [
        "import random\n",
        "\n",
        "num_len: int= 10\n",
        "min_value : int = 1\n",
        "max_value : int = 100\n",
        "\n",
        "def main():\n",
        "\n",
        "  for i in range(num_len):\n",
        "     value= random.randint(min_value , max_value)\n",
        "     print(value, end=\" \")\n",
        "\n",
        "if __name__ == '__main__':\n",
        "  main()"
      ],
      "metadata": {
        "id": "rldz4c0EQOcn",
        "colab": {
          "base_uri": "https://localhost:8080/"
        },
        "outputId": "e5baddac-ac8d-4760-8785-4e383c654bd1"
      },
      "execution_count": null,
      "outputs": [
        {
          "output_type": "stream",
          "name": "stdout",
          "text": [
            "41 80 50 19 3 5 8 84 53 23 "
          ]
        }
      ]
    }
  ]
}